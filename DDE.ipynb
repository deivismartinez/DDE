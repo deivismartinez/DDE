{
  "nbformat": 4,
  "nbformat_minor": 0,
  "metadata": {
    "colab": {
      "name": "DDE.ipynb",
      "provenance": [],
      "authorship_tag": "ABX9TyMG2opKOF7CMh+P1JpZrWCt",
      "include_colab_link": true
    },
    "kernelspec": {
      "name": "python3",
      "display_name": "Python 3"
    },
    "language_info": {
      "name": "python"
    }
  },
  "cells": [
    {
      "cell_type": "markdown",
      "metadata": {
        "id": "view-in-github",
        "colab_type": "text"
      },
      "source": [
        "<a href=\"https://colab.research.google.com/github/deivismartinez/DDE/blob/main/DDE.ipynb\" target=\"_parent\"><img src=\"https://colab.research.google.com/assets/colab-badge.svg\" alt=\"Open In Colab\"/></a>"
      ]
    },
    {
      "cell_type": "markdown",
      "source": [
        "\n",
        "\n",
        "# **Programa desarrollado en el marco de la Tarea 2 de la Asignatura Diseño de Experimentos, en la Universidad del Norte**"
      ],
      "metadata": {
        "id": "9kiR0BQK7rUc"
      }
    },
    {
      "cell_type": "markdown",
      "source": [
        "Se requiere capturar en un archivo de texto el retardo al hacer ping desde casa a dos servidores (www.google.com y www.yahoo.com) con 2 tamaños de paquetes (128 y 512) 500 veces por cada nivel."
      ],
      "metadata": {
        "id": "MZHjqoqh8Jks"
      }
    },
    {
      "cell_type": "markdown",
      "source": [
        "Primero se importan las librerías necesarias: subprocess para ejecutar el ping y random para tener aleatoriedad al lanzar las sentencias que ejecutan el ping"
      ],
      "metadata": {
        "id": "nHOTitex9eaT"
      }
    },
    {
      "cell_type": "code",
      "source": [
        "import subprocess\n",
        "import random"
      ],
      "metadata": {
        "id": "bVx2hyAx9kXl"
      },
      "execution_count": 1,
      "outputs": []
    },
    {
      "cell_type": "markdown",
      "source": [
        "Se construye la función que permite a partir de una lista de valores de respuesta del ping llenar dos archivos con estas respuestas, uno con los datos generales de la respuesta y otro con tres columnas separadas por punto y coma (;) para usarlo des Excel y encontrar los datos atípicos."
      ],
      "metadata": {
        "id": "iJwOE5Ck9u9T"
      }
    },
    {
      "cell_type": "code",
      "source": [
        "def doFile(list):\n",
        "    file_texto = open(\"Tarea2_Martinez.txt\",\"w\")\n",
        "    file_excel = open(\"Tarea2_Martinez_excel.txt\",\"w\")\n",
        "    for row in list:\n",
        "        print(row.get('response'))\n",
        "        index_start = row.get('response').index(\"tiempo=\") + 7\n",
        "        index_end = row.get('response').index(\"ms\")\n",
        "        file_texto.write(row.get('response')+\"\\n\")\n",
        "        file_excel.write((row.get('response')[index_start:index_end] + \";\" + row.get(\"host\") +\";\" + str(row.get(\"p\"))+\"\\n\"))\n",
        "    file_texto.close ()\n",
        "    file_excel.close ()"
      ],
      "metadata": {
        "id": "VaWE1f-F_soj"
      },
      "execution_count": 2,
      "outputs": []
    },
    {
      "cell_type": "markdown",
      "source": [
        "Se desarrolla la rutina necesaria para hacer el ping directamente, esta rutina recibe los parámetros aleatorios del servidor (host) y tamaño de paquete (p), además la lista para anexar al final la respuesta recibida en caso que no se agote el tiempo de espera, retornando la lista modificada."
      ],
      "metadata": {
        "id": "ECXYa8rO_vEi"
      }
    },
    {
      "cell_type": "code",
      "source": [
        "def doPing(p,host, list):\n",
        "    response = subprocess.getoutput(f\"ping -l {p} -n 1 {host}\")\n",
        "    responses = response.split('\\n')\n",
        "    if responses[2]!=\"Tiempo de espera agotado para esta solicitud.\":\n",
        "        list.append({'response':responses[2], 'p':p, 'host':host})\n",
        "    return list"
      ],
      "metadata": {
        "id": "IU7XYCap_vuX"
      },
      "execution_count": 3,
      "outputs": []
    },
    {
      "cell_type": "markdown",
      "source": [
        "El método principal se encarga de llamar la función encarga de hacer el ping con los datos de servidor aleatorio y el tamaño de la lista controlando que no se envíen más ni menos de 500 por cada clase."
      ],
      "metadata": {
        "id": "yJyobv-nAFO7"
      }
    },
    {
      "cell_type": "code",
      "execution_count": 4,
      "metadata": {
        "id": "OkyEFOcB7WZX"
      },
      "outputs": [],
      "source": [
        "def main():\n",
        "    p = [128,512]\n",
        "    host = [\"172.217.28.100\", \"74.6.231.21\"]\n",
        "    list = []\n",
        "    quantity_0_0 = 0\n",
        "    quantity_0_1 = 0\n",
        "    quantity_1_0 = 0\n",
        "    quantity_1_1 = 0\n",
        "    while True:\n",
        "        index_p = random.randint(0, 1)\n",
        "        index_h = random.randint(0, 1)\n",
        "        if index_h == 0 and index_p == 0 and quantity_0_0 < 500:\n",
        "            len_last = len(list)\n",
        "            list = doPing(p[index_p],host[index_h],list)\n",
        "            if len_last < len(list):\n",
        "                quantity_0_0 += 1\n",
        "        elif index_h == 0 and index_p == 1 and quantity_0_1 < 500:\n",
        "            len_last = len(list)\n",
        "            list = doPing(p[index_p],host[index_h],list)\n",
        "            if len_last < len(list):\n",
        "                quantity_0_1 += 1\n",
        "        elif index_h == 1 and index_p == 0 and quantity_1_0 < 500:\n",
        "            len_last = len(list)\n",
        "            list = doPing(p[index_p],host[index_h],list)\n",
        "            if len_last < len(list):\n",
        "                quantity_1_0 += 1\n",
        "        elif index_h == 1 and index_p == 1 and quantity_1_1 < 500:\n",
        "            len_last = len(list)\n",
        "            list = doPing(p[index_p],host[index_h],list)\n",
        "            if len_last < len(list):\n",
        "                quantity_1_1 += 1\n",
        "        if len(list) == 2000:\n",
        "            break\n",
        "        print(f\"i_0_0 {quantity_0_0} i_0_1 {quantity_0_1} i_1_0 {quantity_1_0} i_1_1 {quantity_1_1}\")\n",
        "    doFile(list)"
      ]
    },
    {
      "cell_type": "markdown",
      "source": [
        "Ejecutamos la función main para obtener los datos en los archivos"
      ],
      "metadata": {
        "id": "0x-y6OV6_ziT"
      }
    },
    {
      "cell_type": "code",
      "source": [
        "main()"
      ],
      "metadata": {
        "id": "Pbsy4_Fc_m6T"
      },
      "execution_count": null,
      "outputs": []
    }
  ]
}